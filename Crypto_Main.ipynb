{
 "cells": [
  {
   "cell_type": "code",
   "execution_count": 32,
   "metadata": {},
   "outputs": [
    {
     "ename": "ModuleNotFoundError",
     "evalue": "No module named 'pyplot_express'",
     "output_type": "error",
     "traceback": [
      "\u001b[1;31m---------------------------------------------------------------------------\u001b[0m",
      "\u001b[1;31mModuleNotFoundError\u001b[0m                       Traceback (most recent call last)",
      "\u001b[1;32m<ipython-input-32-f00d81383023>\u001b[0m in \u001b[0;36m<module>\u001b[1;34m()\u001b[0m\n\u001b[0;32m      2\u001b[0m \u001b[0mpolo\u001b[0m \u001b[1;33m=\u001b[0m \u001b[0mPoloniex\u001b[0m\u001b[1;33m(\u001b[0m\u001b[1;33m)\u001b[0m\u001b[1;33m\u001b[0m\u001b[1;33m\u001b[0m\u001b[0m\n\u001b[0;32m      3\u001b[0m \u001b[1;32mimport\u001b[0m \u001b[0mos\u001b[0m\u001b[1;33m,\u001b[0m \u001b[0mdatetime\u001b[0m\u001b[1;33m\u001b[0m\u001b[1;33m\u001b[0m\u001b[0m\n\u001b[1;32m----> 4\u001b[1;33m \u001b[1;32mimport\u001b[0m \u001b[0mpyplot_express\u001b[0m \u001b[1;32mas\u001b[0m \u001b[0mpx\u001b[0m\u001b[1;33m\u001b[0m\u001b[1;33m\u001b[0m\u001b[0m\n\u001b[0m\u001b[0;32m      5\u001b[0m \u001b[1;31m#input date time and Symbol\u001b[0m\u001b[1;33m\u001b[0m\u001b[1;33m\u001b[0m\u001b[1;33m\u001b[0m\u001b[0m\n\u001b[0;32m      6\u001b[0m \u001b[0mstartdate\u001b[0m \u001b[1;33m=\u001b[0m \u001b[1;34m'1/11/2010'\u001b[0m\u001b[1;33m\u001b[0m\u001b[1;33m\u001b[0m\u001b[0m\n",
      "\u001b[1;31mModuleNotFoundError\u001b[0m: No module named 'pyplot_express'"
     ]
    }
   ],
   "source": [
    "from poloniex import Poloniex\n",
    "polo = Poloniex()\n",
    "import os, datetime\n",
    "import pyplot_express as px\n",
    "#input date time and Symbol\n",
    "startdate = '1/11/2010'\n",
    "end_date= '31/12/2018'\n",
    "Symbol = 'USDT_BTC'\n",
    "\n",
    "\n",
    "\n",
    "#pull HISTORICAL DATA\n",
    "#86400 denotes daily\n",
    "import pandas as pd\n",
    "Daily_data =polo.returnChartData(Symbol, 86400, start= datetime.datetime.strptime(startdate, \"%d/%m/%Y\").timestamp(), end= datetime.datetime.strptime(end_date, \"%d/%m/%Y\").timestamp())\n",
    "Daily_data = pd.DataFrame(Daily_data)\n",
    "Daily_data['True Date']= pd.to_datetime(Daily_data['date'], unit='s')\n",
    "Daily_data['Year']=  Daily_data['True Date'].dt.year\n",
    "#moving average columns\n",
    "Daily_data['MA10'] = Daily_data['close'].rolling(10).mean()\n",
    "Daily_data['MA50'] = Daily_data['close'].rolling(50).mean()\n",
    "Daily_data['EMA10'] = Daily_data['close'].ewm(span = 10).mean()\n",
    "Daily_data['EMA50'] = Daily_data['close'].ewm(span = 50).mean()\n",
    "#Rules\n",
    "#Signal cross of 10 over 50 Buy at close price Logic 10>50 or short 10<50\n",
    "#Always gong to be long or short\n",
    "#Use closing prices\n",
    "#Profit/Loss -- For buy (10>50) profit = close on day of cross until until 10<50 Reversal.\n",
    "#Profit/Loss -- For Sell this is the reverse\n",
    "#charts: Line chart, sma's and closing price\n",
    "#profit LOSS calculator\n",
    "\n"
   ]
  },
  {
   "cell_type": "code",
   "execution_count": 28,
   "metadata": {},
   "outputs": [
    {
     "data": {
      "text/plain": [
       "0        None\n",
       "1        None\n",
       "2        None\n",
       "3        None\n",
       "4        None\n",
       "5        None\n",
       "6        None\n",
       "7        None\n",
       "8        None\n",
       "9        None\n",
       "10       None\n",
       "11       None\n",
       "12       None\n",
       "13       None\n",
       "14       None\n",
       "15       None\n",
       "16       None\n",
       "17       None\n",
       "18       None\n",
       "19       None\n",
       "20       None\n",
       "21       None\n",
       "22       None\n",
       "23       None\n",
       "24       None\n",
       "25       None\n",
       "26       None\n",
       "27       None\n",
       "28       None\n",
       "29       None\n",
       "        ...  \n",
       "1382    SHORT\n",
       "1383    SHORT\n",
       "1384    SHORT\n",
       "1385    SHORT\n",
       "1386    SHORT\n",
       "1387    SHORT\n",
       "1388    SHORT\n",
       "1389    SHORT\n",
       "1390    SHORT\n",
       "1391    SHORT\n",
       "1392    SHORT\n",
       "1393    SHORT\n",
       "1394    SHORT\n",
       "1395    SHORT\n",
       "1396    SHORT\n",
       "1397    SHORT\n",
       "1398    SHORT\n",
       "1399    SHORT\n",
       "1400    SHORT\n",
       "1401    SHORT\n",
       "1402    SHORT\n",
       "1403    SHORT\n",
       "1404    SHORT\n",
       "1405    SHORT\n",
       "1406    SHORT\n",
       "1407    SHORT\n",
       "1408    SHORT\n",
       "1409    SHORT\n",
       "1410    SHORT\n",
       "1411    SHORT\n",
       "Length: 1412, dtype: object"
      ]
     },
     "execution_count": 28,
     "metadata": {},
     "output_type": "execute_result"
    }
   ],
   "source": [
    "#SMA system\n",
    "\n",
    "#create a column to hold crossover values\n",
    "def buy_sell (row):\n",
    "   if row['MA10'] > row['MA50'] :\n",
    "      return 'LONG'\n",
    "   if row['MA10'] < row['MA50'] :\n",
    "      return 'SHORT'    \n",
    "test = Daily_data.apply (lambda row: buy_sell(row), axis=1)\n",
    "test"
   ]
  }
 ],
 "metadata": {
  "kernelspec": {
   "display_name": "Python 3",
   "language": "python",
   "name": "python3"
  },
  "language_info": {
   "codemirror_mode": {
    "name": "ipython",
    "version": 3
   },
   "file_extension": ".py",
   "mimetype": "text/x-python",
   "name": "python",
   "nbconvert_exporter": "python",
   "pygments_lexer": "ipython3",
   "version": "3.6.7"
  }
 },
 "nbformat": 4,
 "nbformat_minor": 2
}
