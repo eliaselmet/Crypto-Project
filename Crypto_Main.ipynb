{
 "cells": [
  {
   "cell_type": "code",
   "execution_count": 18,
   "metadata": {},
   "outputs": [],
   "source": [
    "from poloniex import Poloniex\n",
    "polo = Poloniex()\n",
    "import os, datetime\n",
    "\n",
    "#input date time and Symbol\n",
    "startdate = '1/11/2010'\n",
    "end_date= '31/12/2018'\n",
    "Symbol = 'USDT_BTC'\n",
    "\n",
    "\n",
    "\n",
    "#pull HISTORICAL DATA\n",
    "#86400 denotes daily\n",
    "import pandas as pd\n",
    "Daily_data =polo.returnChartData(Symbol, 86400, start= datetime.datetime.strptime(startdate, \"%d/%m/%Y\").timestamp(), end= datetime.datetime.strptime(end_date, \"%d/%m/%Y\").timestamp())\n",
    "Daily_data = pd.DataFrame(Daily_data)\n",
    "Daily_data['True Date']= pd.to_datetime(Daily_data['date'], unit='s')\n",
    "Daily_data['Year']=  Daily_data['True Date'].dt.year\n",
    "#moving average columns\n",
    "Daily_data['MA10'] = Daily_data['close'].rolling(10).mean()\n",
    "Daily_data['MA50'] = Daily_data['close'].rolling(50).mean()\n",
    "Daily_data['EMA10'] = Daily_data['close'].ewm(span = 10).mean()\n",
    "Daily_data['EMA50'] = Daily_data['close'].ewm(span = 50).mean()\n",
    "#Rules\n",
    "#Signal cross of 10 over 50 Buy at close price Logic 10>50 or short 10<50\n",
    "#Always gong to be long or short\n",
    "#Use closing prices\n",
    "#Profit/Loss -- For buy (10>50) profit = close on day of cross until until 10<50 Reversal.\n",
    "#Profit/Loss -- For Sell this is the reverse\n",
    "#charts: Line chart, sma's and closing price\n",
    "#profit LOSS calculator\n",
    "\n",
    "\n",
    "\n",
    "\n",
    "\n"
   ]
  },
  {
   "cell_type": "code",
   "execution_count": null,
   "metadata": {},
   "outputs": [],
   "source": []
  }
 ],
 "metadata": {
  "kernelspec": {
   "display_name": "Python 3",
   "language": "python",
   "name": "python3"
  },
  "language_info": {
   "codemirror_mode": {
    "name": "ipython",
    "version": 3
   },
   "file_extension": ".py",
   "mimetype": "text/x-python",
   "name": "python",
   "nbconvert_exporter": "python",
   "pygments_lexer": "ipython3",
   "version": "3.6.7"
  }
 },
 "nbformat": 4,
 "nbformat_minor": 2
}
