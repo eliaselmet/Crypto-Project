{
 "cells": [
  {
   "cell_type": "code",
   "execution_count": 21,
   "metadata": {},
   "outputs": [
    {
     "data": {
      "text/html": [
       "<div>\n",
       "<style scoped>\n",
       "    .dataframe tbody tr th:only-of-type {\n",
       "        vertical-align: middle;\n",
       "    }\n",
       "\n",
       "    .dataframe tbody tr th {\n",
       "        vertical-align: top;\n",
       "    }\n",
       "\n",
       "    .dataframe thead th {\n",
       "        text-align: right;\n",
       "    }\n",
       "</style>\n",
       "<table border=\"1\" class=\"dataframe\">\n",
       "  <thead>\n",
       "    <tr style=\"text-align: right;\">\n",
       "      <th></th>\n",
       "      <th>close</th>\n",
       "      <th>date</th>\n",
       "      <th>high</th>\n",
       "      <th>low</th>\n",
       "      <th>open</th>\n",
       "      <th>quoteVolume</th>\n",
       "      <th>volume</th>\n",
       "      <th>weightedAverage</th>\n",
       "      <th>True Date</th>\n",
       "      <th>Year</th>\n",
       "      <th>MA10</th>\n",
       "      <th>MA50</th>\n",
       "      <th>EMA10</th>\n",
       "      <th>EMA50</th>\n",
       "    </tr>\n",
       "  </thead>\n",
       "  <tbody>\n",
       "    <tr>\n",
       "      <th>0</th>\n",
       "      <td>225.0</td>\n",
       "      <td>1424368800</td>\n",
       "      <td>225.0</td>\n",
       "      <td>225.0</td>\n",
       "      <td>225.0</td>\n",
       "      <td>0.004444</td>\n",
       "      <td>0.999999</td>\n",
       "      <td>225.000000</td>\n",
       "      <td>2015-02-19 18:00:00</td>\n",
       "      <td>2015</td>\n",
       "      <td>NaN</td>\n",
       "      <td>NaN</td>\n",
       "      <td>225.00</td>\n",
       "      <td>225.00</td>\n",
       "    </tr>\n",
       "    <tr>\n",
       "      <th>1</th>\n",
       "      <td>244.0</td>\n",
       "      <td>1424376000</td>\n",
       "      <td>244.0</td>\n",
       "      <td>225.0</td>\n",
       "      <td>225.0</td>\n",
       "      <td>0.188671</td>\n",
       "      <td>45.275877</td>\n",
       "      <td>239.972316</td>\n",
       "      <td>2015-02-19 20:00:00</td>\n",
       "      <td>2015</td>\n",
       "      <td>NaN</td>\n",
       "      <td>NaN</td>\n",
       "      <td>235.45</td>\n",
       "      <td>234.69</td>\n",
       "    </tr>\n",
       "  </tbody>\n",
       "</table>\n",
       "</div>"
      ],
      "text/plain": [
       "   close        date   high    low   open  quoteVolume     volume  \\\n",
       "0  225.0  1424368800  225.0  225.0  225.0     0.004444   0.999999   \n",
       "1  244.0  1424376000  244.0  225.0  225.0     0.188671  45.275877   \n",
       "\n",
       "   weightedAverage           True Date  Year  MA10  MA50   EMA10   EMA50  \n",
       "0       225.000000 2015-02-19 18:00:00  2015   NaN   NaN  225.00  225.00  \n",
       "1       239.972316 2015-02-19 20:00:00  2015   NaN   NaN  235.45  234.69  "
      ]
     },
     "execution_count": 21,
     "metadata": {},
     "output_type": "execute_result"
    }
   ],
   "source": [
    "from poloniex import Poloniex\n",
    "polo = Poloniex()\n",
    "import os, datetime\n",
    "import matplotlib.pyplot as plt\n",
    "%matplotlib inline\n",
    "#import plotly_express as px\n",
    "\n",
    "#input date time and Symbol\n",
    "startdate = '1/11/2010'\n",
    "end_date= '31/12/2018'\n",
    "Symbol = 'USDT_BTC'\n",
    "\n",
    "#time categories:  300, 900, 1800, 7200, 14400, and 86400(daily).\n",
    "\n",
    "\n",
    "#pull HISTORICAL DATA\n",
    "#86400 denotes daily\n",
    "import pandas as pd\n",
    "Daily_data =polo.returnChartData(Symbol, 7200, start= datetime.datetime.strptime(startdate, \"%d/%m/%Y\").timestamp(), end= datetime.datetime.strptime(end_date, \"%d/%m/%Y\").timestamp())\n",
    "Daily_data = pd.DataFrame(Daily_data)\n",
    "Daily_data['True Date']= pd.to_datetime(Daily_data['date'], unit='s')\n",
    "Daily_data['Year']=  Daily_data['True Date'].dt.year\n",
    "#moving average columns\n",
    "Daily_data['MA10'] = Daily_data['close'].rolling(10).mean()\n",
    "Daily_data['MA50'] = Daily_data['close'].rolling(50).mean()\n",
    "Daily_data['EMA10'] = Daily_data['close'].ewm(span = 10).mean()\n",
    "Daily_data['EMA50'] = Daily_data['close'].ewm(span = 50).mean()\n",
    "#Rules\n",
    "#Signal cross of 10 over 50 Buy at close price Logic 10>50 or short 10<50\n",
    "#Always gong to be long or short\n",
    "#Use closing prices\n",
    "#Profit/Loss -- For buy (10>50) profit = close on day of cross until until 10<50 Reversal.\n",
    "#Profit/Loss -- For Sell this is the reverse\n",
    "#charts: Line chart, sma's and closing price\n",
    "#profit LOSS calculator\n",
    "\n",
    "Daily_data.head(2)"
   ]
  },
  {
   "cell_type": "code",
   "execution_count": 22,
   "metadata": {},
   "outputs": [],
   "source": [
    "#drop the Nan to get to the start of the moving averages\n",
    "Daily_data_SMA= Daily_data.dropna()"
   ]
  },
  {
   "cell_type": "code",
   "execution_count": 23,
   "metadata": {},
   "outputs": [
    {
     "name": "stderr",
     "output_type": "stream",
     "text": [
      "C:\\Users\\jthor\\AppData\\Local\\Continuum\\anaconda3\\lib\\site-packages\\ipykernel_launcher.py:8: SettingWithCopyWarning: \n",
      "A value is trying to be set on a copy of a slice from a DataFrame.\n",
      "Try using .loc[row_indexer,col_indexer] = value instead\n",
      "\n",
      "See the caveats in the documentation: http://pandas.pydata.org/pandas-docs/stable/indexing.html#indexing-view-versus-copy\n",
      "  \n"
     ]
    }
   ],
   "source": [
    "#create the long/short column:\n",
    "def buy_sell (row):\n",
    "   if row['MA10'] > row['MA50'] :\n",
    "      return 'LONG'\n",
    "   if row['MA10'] < row['MA50'] :\n",
    "      return 'SHORT'    \n",
    "longshort = Daily_data.apply (lambda row: buy_sell(row), axis=1)\n",
    "Daily_data_SMA['Go Long or Short'] = longshort\n"
   ]
  },
  {
   "cell_type": "code",
   "execution_count": 24,
   "metadata": {},
   "outputs": [
    {
     "name": "stderr",
     "output_type": "stream",
     "text": [
      "C:\\Users\\jthor\\AppData\\Local\\Continuum\\anaconda3\\lib\\site-packages\\ipykernel_launcher.py:5: SettingWithCopyWarning: \n",
      "A value is trying to be set on a copy of a slice from a DataFrame.\n",
      "Try using .loc[row_indexer,col_indexer] = value instead\n",
      "\n",
      "See the caveats in the documentation: http://pandas.pydata.org/pandas-docs/stable/indexing.html#indexing-view-versus-copy\n",
      "  \"\"\"\n"
     ]
    }
   ],
   "source": [
    "#Find where the column values change\n",
    "#this function compares current value to previous value and if they are the same = True\n",
    "#If current value does not equal then it is false.\n",
    "#Therefore all the \"false\" tags will have an exit price for our long and a entry price for our short\n",
    "Daily_data_SMA['entry and exit'] = Daily_data_SMA['Go Long or Short'].eq(Daily_data_SMA['Go Long or Short'].shift())\n",
    "Daily_data_SMA.to_csv('SMA.csv')"
   ]
  },
  {
   "cell_type": "code",
   "execution_count": 25,
   "metadata": {},
   "outputs": [
    {
     "name": "stderr",
     "output_type": "stream",
     "text": [
      "C:\\Users\\jthor\\AppData\\Local\\Continuum\\anaconda3\\lib\\site-packages\\ipykernel_launcher.py:11: SettingWithCopyWarning: \n",
      "A value is trying to be set on a copy of a slice from a DataFrame.\n",
      "Try using .loc[row_indexer,col_indexer] = value instead\n",
      "\n",
      "See the caveats in the documentation: http://pandas.pydata.org/pandas-docs/stable/indexing.html#indexing-view-versus-copy\n",
      "  # This is added back by InteractiveShellApp.init_path()\n",
      "C:\\Users\\jthor\\AppData\\Local\\Continuum\\anaconda3\\lib\\site-packages\\ipykernel_launcher.py:13: SettingWithCopyWarning: \n",
      "A value is trying to be set on a copy of a slice from a DataFrame.\n",
      "Try using .loc[row_indexer,col_indexer] = value instead\n",
      "\n",
      "See the caveats in the documentation: http://pandas.pydata.org/pandas-docs/stable/indexing.html#indexing-view-versus-copy\n",
      "  del sys.path[0]\n"
     ]
    },
    {
     "data": {
      "text/html": [
       "<div>\n",
       "<style scoped>\n",
       "    .dataframe tbody tr th:only-of-type {\n",
       "        vertical-align: middle;\n",
       "    }\n",
       "\n",
       "    .dataframe tbody tr th {\n",
       "        vertical-align: top;\n",
       "    }\n",
       "\n",
       "    .dataframe thead th {\n",
       "        text-align: right;\n",
       "    }\n",
       "</style>\n",
       "<table border=\"1\" class=\"dataframe\">\n",
       "  <thead>\n",
       "    <tr style=\"text-align: right;\">\n",
       "      <th></th>\n",
       "      <th>close</th>\n",
       "      <th>date</th>\n",
       "      <th>high</th>\n",
       "      <th>low</th>\n",
       "      <th>open</th>\n",
       "      <th>quoteVolume</th>\n",
       "      <th>volume</th>\n",
       "      <th>weightedAverage</th>\n",
       "      <th>True Date</th>\n",
       "      <th>Year</th>\n",
       "      <th>MA10</th>\n",
       "      <th>MA50</th>\n",
       "      <th>EMA10</th>\n",
       "      <th>EMA50</th>\n",
       "      <th>Go Long or Short</th>\n",
       "      <th>entry and exit</th>\n",
       "      <th>Profit or Loss</th>\n",
       "      <th>Cumulative Profit or Loss</th>\n",
       "    </tr>\n",
       "  </thead>\n",
       "  <tbody>\n",
       "    <tr>\n",
       "      <th>49</th>\n",
       "      <td>235.000026</td>\n",
       "      <td>1424721600</td>\n",
       "      <td>235.000026</td>\n",
       "      <td>235.000026</td>\n",
       "      <td>235.000026</td>\n",
       "      <td>0.000000</td>\n",
       "      <td>0.000000</td>\n",
       "      <td>235.000026</td>\n",
       "      <td>2015-02-23 20:00:00</td>\n",
       "      <td>2015</td>\n",
       "      <td>235.000021</td>\n",
       "      <td>240.295046</td>\n",
       "      <td>235.603651</td>\n",
       "      <td>239.127936</td>\n",
       "      <td>SHORT</td>\n",
       "      <td>False</td>\n",
       "      <td>NaN</td>\n",
       "      <td>NaN</td>\n",
       "    </tr>\n",
       "    <tr>\n",
       "      <th>70</th>\n",
       "      <td>-237.750000</td>\n",
       "      <td>1424872800</td>\n",
       "      <td>237.750000</td>\n",
       "      <td>237.750000</td>\n",
       "      <td>237.750000</td>\n",
       "      <td>0.000000</td>\n",
       "      <td>0.000000</td>\n",
       "      <td>237.750000</td>\n",
       "      <td>2015-02-25 14:00:00</td>\n",
       "      <td>2015</td>\n",
       "      <td>238.975004</td>\n",
       "      <td>238.960048</td>\n",
       "      <td>238.386091</td>\n",
       "      <td>238.324387</td>\n",
       "      <td>LONG</td>\n",
       "      <td>False</td>\n",
       "      <td>-2.749974</td>\n",
       "      <td>-2.749974</td>\n",
       "    </tr>\n",
       "    <tr>\n",
       "      <th>72</th>\n",
       "      <td>237.750000</td>\n",
       "      <td>1424887200</td>\n",
       "      <td>237.750000</td>\n",
       "      <td>237.750000</td>\n",
       "      <td>237.750000</td>\n",
       "      <td>0.000000</td>\n",
       "      <td>0.000000</td>\n",
       "      <td>237.750000</td>\n",
       "      <td>2015-02-25 18:00:00</td>\n",
       "      <td>2015</td>\n",
       "      <td>238.750000</td>\n",
       "      <td>238.860048</td>\n",
       "      <td>238.175813</td>\n",
       "      <td>238.277703</td>\n",
       "      <td>SHORT</td>\n",
       "      <td>False</td>\n",
       "      <td>0.000000</td>\n",
       "      <td>-2.749974</td>\n",
       "    </tr>\n",
       "    <tr>\n",
       "      <th>80</th>\n",
       "      <td>-237.750000</td>\n",
       "      <td>1424944800</td>\n",
       "      <td>237.750000</td>\n",
       "      <td>237.750000</td>\n",
       "      <td>237.750000</td>\n",
       "      <td>0.000013</td>\n",
       "      <td>0.003053</td>\n",
       "      <td>237.750000</td>\n",
       "      <td>2015-02-26 10:00:00</td>\n",
       "      <td>2015</td>\n",
       "      <td>237.750000</td>\n",
       "      <td>237.555048</td>\n",
       "      <td>237.835510</td>\n",
       "      <td>238.127286</td>\n",
       "      <td>LONG</td>\n",
       "      <td>False</td>\n",
       "      <td>0.000000</td>\n",
       "      <td>-2.749974</td>\n",
       "    </tr>\n",
       "  </tbody>\n",
       "</table>\n",
       "</div>"
      ],
      "text/plain": [
       "         close        date        high         low        open  quoteVolume  \\\n",
       "49  235.000026  1424721600  235.000026  235.000026  235.000026     0.000000   \n",
       "70 -237.750000  1424872800  237.750000  237.750000  237.750000     0.000000   \n",
       "72  237.750000  1424887200  237.750000  237.750000  237.750000     0.000000   \n",
       "80 -237.750000  1424944800  237.750000  237.750000  237.750000     0.000013   \n",
       "\n",
       "      volume  weightedAverage           True Date  Year        MA10  \\\n",
       "49  0.000000       235.000026 2015-02-23 20:00:00  2015  235.000021   \n",
       "70  0.000000       237.750000 2015-02-25 14:00:00  2015  238.975004   \n",
       "72  0.000000       237.750000 2015-02-25 18:00:00  2015  238.750000   \n",
       "80  0.003053       237.750000 2015-02-26 10:00:00  2015  237.750000   \n",
       "\n",
       "          MA50       EMA10       EMA50 Go Long or Short  entry and exit  \\\n",
       "49  240.295046  235.603651  239.127936            SHORT           False   \n",
       "70  238.960048  238.386091  238.324387             LONG           False   \n",
       "72  238.860048  238.175813  238.277703            SHORT           False   \n",
       "80  237.555048  237.835510  238.127286             LONG           False   \n",
       "\n",
       "    Profit or Loss  Cumulative Profit or Loss  \n",
       "49             NaN                        NaN  \n",
       "70       -2.749974                  -2.749974  \n",
       "72        0.000000                  -2.749974  \n",
       "80        0.000000                  -2.749974  "
      ]
     },
     "execution_count": 25,
     "metadata": {},
     "output_type": "execute_result"
    }
   ],
   "source": [
    "#Lets pull out all the entry and exit points with closing price and Short or long column\n",
    "EntryandExit = Daily_data_SMA.loc[Daily_data_SMA['entry and exit'] == False]\n",
    "EntryandExit\n",
    "#NEXT Calculate the profit/Loss per trade\n",
    "#Step 1 Change all the rows named SHORT to Negative\n",
    "EntryandExit.loc[EntryandExit['Go Long or Short'] == 'LONG', 'close'] = EntryandExit['close']*-1\n",
    "#Calculate the profit or loss on the trades. Fist column will be nan after that the profit or \n",
    "#loss is calculated on a per trade basis\n",
    "\n",
    "#EntryandExit['Running Total'] = EntryandExit['Profit or Loss'].cumsum()\n",
    "EntryandExit['Profit or Loss'] =  EntryandExit.close+EntryandExit.close.shift(1) \n",
    "#Cumulative Profit or loss\n",
    "EntryandExit['Cumulative Profit or Loss'] =  EntryandExit['Profit or Loss'].cumsum()\n",
    "\n",
    "EntryandExit.head(4)"
   ]
  },
  {
   "cell_type": "code",
   "execution_count": 26,
   "metadata": {},
   "outputs": [
    {
     "name": "stdout",
     "output_type": "stream",
     "text": [
      "There were 458 trades made for the Simple Moving Average Strategy. The Total Profit/Loss from the strategy was $19680.733463790013. The largest single winner was $4162.09 and the largest drawdown was $-3347.0\n"
     ]
    }
   ],
   "source": [
    "#trade statistics\n",
    "total_trades= len(EntryandExit)\n",
    "Total_profit_points = EntryandExit['Profit or Loss'].sum()\n",
    "largest_drawdown = EntryandExit['Profit or Loss'].min()\n",
    "largest_winner = EntryandExit['Profit or Loss'].max()\n",
    "\n",
    "print(f\"There were {total_trades} trades made for the Simple Moving Average Strategy. The Total Profit/Loss from the \\\n",
    "strategy was ${Total_profit_points}. The largest single winner was ${round(largest_winner,2)} and the largest drawdown was ${round(largest_drawdown,2)}\")"
   ]
  },
  {
   "cell_type": "code",
   "execution_count": 27,
   "metadata": {
    "scrolled": false
   },
   "outputs": [
    {
     "data": {
      "image/png": "[encoded data removed]",
      "text/plain": [
       "<Figure size 1440x360 with 1 Axes>"
      ]
     },
     "metadata": {
      "needs_background": "light"
     },
     "output_type": "display_data"
    }
   ],
   "source": [
    "#Plot price and moving averages\n",
    "import matplotlib.pyplot as plt\n",
    "%matplotlib inline\n",
    "plt.figure(figsize=(20,5)) \n",
    "plt.plot(Daily_data_SMA['True Date'], Daily_data_SMA['close'])\n",
    "plt.plot(Daily_data_SMA['True Date'], Daily_data_SMA['MA10'])\n",
    "plt.plot(Daily_data_SMA['True Date'], Daily_data_SMA['MA50'])\n",
    "\n",
    "# Incorporate the other graph properties\n",
    "plt.title(f\"{Symbol} OVER TIME\")\n",
    "plt.ylabel(\"Price $\")\n",
    "plt.xlabel(\"Date\")\n",
    "plt.grid(True)\n",
    "\n",
    "# Save the figure\n",
    "#plt.savefig(\"Latitude_vs_Wind.png\")\n",
    "\n",
    "# Show plot\n",
    "plt.show()\n"
   ]
  },
  {
   "cell_type": "code",
   "execution_count": 28,
   "metadata": {},
   "outputs": [
    {
     "data": {
      "image/png": "[encoded data removed]",
      "text/plain": [
       "<Figure size 432x288 with 1 Axes>"
      ]
     },
     "metadata": {
      "needs_background": "light"
     },
     "output_type": "display_data"
    }
   ],
   "source": [
    "#Plot profit line\n",
    "import matplotlib.pyplot as plt\n",
    "plt.plot(EntryandExit['True Date'], EntryandExit['Profit or Loss'])\n",
    "\n",
    "# Incorporate the other graph properties\n",
    "plt.title(f\"{Symbol} Profit/Loss\")\n",
    "plt.ylabel(\"Profits\")\n",
    "plt.xlabel(\"Date\")\n",
    "plt.grid(True)\n",
    "\n",
    "# Save the figure\n",
    "#plt.savefig(\"Latitude_vs_Wind.png\")\n",
    "\n",
    "# Show plot\n",
    "plt.show()"
   ]
  }
 ],
 "metadata": {
  "kernelspec": {
   "display_name": "Python 3",
   "language": "python",
   "name": "python3"
  },
  "language_info": {
   "codemirror_mode": {
    "name": "ipython",
    "version": 3
   },
   "file_extension": ".py",
   "mimetype": "text/x-python",
   "name": "python",
   "nbconvert_exporter": "python",
   "pygments_lexer": "ipython3",
   "version": "3.7.1"
  }
 },
 "nbformat": 4,
 "nbformat_minor": 2
}
