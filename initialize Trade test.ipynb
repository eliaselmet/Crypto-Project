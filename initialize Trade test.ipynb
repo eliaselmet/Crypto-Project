{
 "cells": [
  {
   "cell_type": "code",
   "execution_count": 23,
   "metadata": {},
   "outputs": [
    {
     "name": "stdout",
     "output_type": "stream",
     "text": [
      "True\n",
      "100\n",
      "['value']\n",
      "0\n",
      "False\n"
     ]
    }
   ],
   "source": [
    "import random\n",
    "import pandas as pd\n",
    "list = []\n",
    "trade_init = True\n",
    "executed_trade = []\n",
    "tradecounter = 0\n",
    "#create a list of true false values at random\n",
    "for i in range(100):\n",
    "    list.append(random.choice([True, False]))\n",
    "print(trade_init)    \n",
    "    \n",
    "\n",
    "#list= pd.DataFrame(list)\n",
    "list = pd.DataFrame({'value':list})\n",
    "#Find what the first variable in the list is\n",
    "list['value'].iloc[0]\n",
    "trade_init = list['value'].iloc[0]\n",
    "\n",
    "for i in list:\n",
    "    print(len(list))\n",
    "    if i != trade_init:\n",
    "        executed_trade.append(i)\n",
    "        if trade_init == True:\n",
    "            trade_init = False\n",
    "        else: trade_init = True\n",
    "    else:\n",
    "        tradecounter +=1\n",
    "        \n",
    "print(executed_trade)  \n",
    "print(tradecounter)\n",
    "print(trade_init)"
   ]
  }
 ],
 "metadata": {
  "kernelspec": {
   "display_name": "Python 3",
   "language": "python",
   "name": "python3"
  },
  "language_info": {
   "codemirror_mode": {
    "name": "ipython",
    "version": 3
   },
   "file_extension": ".py",
   "mimetype": "text/x-python",
   "name": "python",
   "nbconvert_exporter": "python",
   "pygments_lexer": "ipython3",
   "version": "3.6.7"
  }
 },
 "nbformat": 4,
 "nbformat_minor": 2
}
