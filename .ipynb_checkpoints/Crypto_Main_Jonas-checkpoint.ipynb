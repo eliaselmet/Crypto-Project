{
 "cells": [
  {
   "cell_type": "code",
   "execution_count": 2,
   "metadata": {},
   "outputs": [
    {
     "data": {
      "text/html": [
       "<div>\n",
       "<style scoped>\n",
       "    .dataframe tbody tr th:only-of-type {\n",
       "        vertical-align: middle;\n",
       "    }\n",
       "\n",
       "    .dataframe tbody tr th {\n",
       "        vertical-align: top;\n",
       "    }\n",
       "\n",
       "    .dataframe thead th {\n",
       "        text-align: right;\n",
       "    }\n",
       "</style>\n",
       "<table border=\"1\" class=\"dataframe\">\n",
       "  <thead>\n",
       "    <tr style=\"text-align: right;\">\n",
       "      <th></th>\n",
       "      <th>close</th>\n",
       "      <th>date</th>\n",
       "      <th>high</th>\n",
       "      <th>low</th>\n",
       "      <th>open</th>\n",
       "      <th>quoteVolume</th>\n",
       "      <th>volume</th>\n",
       "      <th>weightedAverage</th>\n",
       "      <th>True Date</th>\n",
       "      <th>Year</th>\n",
       "      <th>MA10</th>\n",
       "      <th>MA50</th>\n",
       "      <th>EMA10</th>\n",
       "      <th>EMA50</th>\n",
       "    </tr>\n",
       "  </thead>\n",
       "  <tbody>\n",
       "    <tr>\n",
       "      <th>0</th>\n",
       "      <td>244.00</td>\n",
       "      <td>1424304000</td>\n",
       "      <td>244.0</td>\n",
       "      <td>225.00</td>\n",
       "      <td>225.000000</td>\n",
       "      <td>0.193117</td>\n",
       "      <td>46.276313</td>\n",
       "      <td>239.627778</td>\n",
       "      <td>2015-02-19</td>\n",
       "      <td>2015</td>\n",
       "      <td>NaN</td>\n",
       "      <td>NaN</td>\n",
       "      <td>244.0000</td>\n",
       "      <td>244.0000</td>\n",
       "    </tr>\n",
       "    <tr>\n",
       "      <th>1</th>\n",
       "      <td>240.25</td>\n",
       "      <td>1424390400</td>\n",
       "      <td>245.0</td>\n",
       "      <td>240.25</td>\n",
       "      <td>240.250118</td>\n",
       "      <td>0.230429</td>\n",
       "      <td>55.894897</td>\n",
       "      <td>242.568479</td>\n",
       "      <td>2015-02-20</td>\n",
       "      <td>2015</td>\n",
       "      <td>NaN</td>\n",
       "      <td>NaN</td>\n",
       "      <td>241.9375</td>\n",
       "      <td>242.0875</td>\n",
       "    </tr>\n",
       "  </tbody>\n",
       "</table>\n",
       "</div>"
      ],
      "text/plain": [
       "    close        date   high     low        open  quoteVolume     volume  \\\n",
       "0  244.00  1424304000  244.0  225.00  225.000000     0.193117  46.276313   \n",
       "1  240.25  1424390400  245.0  240.25  240.250118     0.230429  55.894897   \n",
       "\n",
       "   weightedAverage  True Date  Year  MA10  MA50     EMA10     EMA50  \n",
       "0       239.627778 2015-02-19  2015   NaN   NaN  244.0000  244.0000  \n",
       "1       242.568479 2015-02-20  2015   NaN   NaN  241.9375  242.0875  "
      ]
     },
     "execution_count": 2,
     "metadata": {},
     "output_type": "execute_result"
    }
   ],
   "source": [
    "from poloniex import Poloniex\n",
    "polo = Poloniex()\n",
    "import os, datetime\n",
    "import matplotlib.pyplot as plt\n",
    "%matplotlib inline\n",
    "#import plotly_express as px\n",
    "\n",
    "#input date time and Symbol\n",
    "startdate = '1/11/2010'\n",
    "end_date= '31/12/2018'\n",
    "Symbol = 'USDT_BTC'\n",
    "\n",
    "\n",
    "\n",
    "#pull HISTORICAL DATA\n",
    "#86400 denotes daily\n",
    "import pandas as pd\n",
    "Daily_data =polo.returnChartData(Symbol, 86400, start= datetime.datetime.strptime(startdate, \"%d/%m/%Y\").timestamp(), end= datetime.datetime.strptime(end_date, \"%d/%m/%Y\").timestamp())\n",
    "Daily_data = pd.DataFrame(Daily_data)\n",
    "Daily_data['True Date']= pd.to_datetime(Daily_data['date'], unit='s')\n",
    "Daily_data['Year']=  Daily_data['True Date'].dt.year\n",
    "#moving average columns\n",
    "Daily_data['MA10'] = Daily_data['close'].rolling(10).mean()\n",
    "Daily_data['MA50'] = Daily_data['close'].rolling(50).mean()\n",
    "Daily_data['EMA10'] = Daily_data['close'].ewm(span = 10).mean()\n",
    "Daily_data['EMA50'] = Daily_data['close'].ewm(span = 50).mean()\n",
    "#Rules\n",
    "#Signal cross of 10 over 50 Buy at close price Logic 10>50 or short 10<50\n",
    "#Always gong to be long or short\n",
    "#Use closing prices\n",
    "#Profit/Loss -- For buy (10>50) profit = close on day of cross until until 10<50 Reversal.\n",
    "#Profit/Loss -- For Sell this is the reverse\n",
    "#charts: Line chart, sma's and closing price\n",
    "#profit LOSS calculator\n",
    "\n",
    "Daily_data.head(2)"
   ]
  },
  {
   "cell_type": "code",
   "execution_count": 3,
   "metadata": {},
   "outputs": [
    {
     "data": {
      "text/plain": [
       "0"
      ]
     },
     "execution_count": 3,
     "metadata": {},
     "output_type": "execute_result"
    }
   ],
   "source": [
    "#drop the Nan to get to the start of the moving averages\n",
    "Daily_data_SMA= Daily_data.dropna()\n",
    "#set long short or neutral. We will start at 0\n",
    "trade_direction = 0\n",
    "\n",
    "#set start of trade direction-- if 10>50 we are waiting to short and vice versa\n",
    "#Check if MA10 > MA50 or vice versa. IF greater than 50 set trade_direction to 1\n",
    "#if ma10<MA50 set trade dircetion to -1\n",
    "if (Daily_data.iloc[0]['MA10'])>(Daily_data.iloc[0]['MA50']):\n",
    "    trade_direction = 1\n",
    "elif (Daily_data.iloc[0]['MA10'])<(Daily_data.iloc[0]['MA50']):\n",
    "    trade_direction = -1\n",
    "\n",
    "trade_direction\n",
    "    "
   ]
  },
  {
   "cell_type": "code",
   "execution_count": 4,
   "metadata": {},
   "outputs": [
    {
     "name": "stderr",
     "output_type": "stream",
     "text": [
      "C:\\Users\\jthor\\AppData\\Local\\Continuum\\anaconda3\\lib\\site-packages\\ipykernel_launcher.py:8: SettingWithCopyWarning: \n",
      "A value is trying to be set on a copy of a slice from a DataFrame.\n",
      "Try using .loc[row_indexer,col_indexer] = value instead\n",
      "\n",
      "See the caveats in the documentation: http://pandas.pydata.org/pandas-docs/stable/indexing.html#indexing-view-versus-copy\n",
      "  \n"
     ]
    }
   ],
   "source": [
    "#create the long/short column:\n",
    "def buy_sell (row):\n",
    "   if row['MA10'] > row['MA50'] :\n",
    "      return 'LONG'\n",
    "   if row['MA10'] < row['MA50'] :\n",
    "      return 'SHORT'    \n",
    "longshort = Daily_data.apply (lambda row: buy_sell(row), axis=1)\n",
    "Daily_data_SMA['Go Long or Short'] = longshort\n"
   ]
  },
  {
   "cell_type": "code",
   "execution_count": 5,
   "metadata": {},
   "outputs": [
    {
     "name": "stderr",
     "output_type": "stream",
     "text": [
      "C:\\Users\\jthor\\AppData\\Local\\Continuum\\anaconda3\\lib\\site-packages\\ipykernel_launcher.py:5: SettingWithCopyWarning: \n",
      "A value is trying to be set on a copy of a slice from a DataFrame.\n",
      "Try using .loc[row_indexer,col_indexer] = value instead\n",
      "\n",
      "See the caveats in the documentation: http://pandas.pydata.org/pandas-docs/stable/indexing.html#indexing-view-versus-copy\n",
      "  \"\"\"\n"
     ]
    }
   ],
   "source": [
    "#Find where the column values change\n",
    "#this function compares current value to previous value and if they are the same = True\n",
    "#If current value does not equal then it is false.\n",
    "#Therefore all the \"false\" tags will have an exit price for our long and a entry price for our short\n",
    "Daily_data_SMA['entry and exit'] = Daily_data_SMA['Go Long or Short'].eq(Daily_data_SMA['Go Long or Short'].shift())\n",
    "Daily_data_SMA.to_csv('test.csv')"
   ]
  },
  {
   "cell_type": "code",
   "execution_count": 11,
   "metadata": {},
   "outputs": [
    {
     "name": "stderr",
     "output_type": "stream",
     "text": [
      "C:\\Users\\jthor\\AppData\\Local\\Continuum\\anaconda3\\lib\\site-packages\\pandas\\core\\indexing.py:543: SettingWithCopyWarning: \n",
      "A value is trying to be set on a copy of a slice from a DataFrame.\n",
      "Try using .loc[row_indexer,col_indexer] = value instead\n",
      "\n",
      "See the caveats in the documentation: http://pandas.pydata.org/pandas-docs/stable/indexing.html#indexing-view-versus-copy\n",
      "  self.obj[item] = s\n",
      "C:\\Users\\jthor\\AppData\\Local\\Continuum\\anaconda3\\lib\\site-packages\\ipykernel_launcher.py:11: SettingWithCopyWarning: \n",
      "A value is trying to be set on a copy of a slice from a DataFrame.\n",
      "Try using .loc[row_indexer,col_indexer] = value instead\n",
      "\n",
      "See the caveats in the documentation: http://pandas.pydata.org/pandas-docs/stable/indexing.html#indexing-view-versus-copy\n",
      "  # This is added back by InteractiveShellApp.init_path()\n",
      "C:\\Users\\jthor\\AppData\\Local\\Continuum\\anaconda3\\lib\\site-packages\\ipykernel_launcher.py:12: SettingWithCopyWarning: \n",
      "A value is trying to be set on a copy of a slice from a DataFrame.\n",
      "Try using .loc[row_indexer,col_indexer] = value instead\n",
      "\n",
      "See the caveats in the documentation: http://pandas.pydata.org/pandas-docs/stable/indexing.html#indexing-view-versus-copy\n",
      "  if sys.path[0] == '':\n"
     ]
    },
    {
     "data": {
      "text/html": [
       "<div>\n",
       "<style scoped>\n",
       "    .dataframe tbody tr th:only-of-type {\n",
       "        vertical-align: middle;\n",
       "    }\n",
       "\n",
       "    .dataframe tbody tr th {\n",
       "        vertical-align: top;\n",
       "    }\n",
       "\n",
       "    .dataframe thead th {\n",
       "        text-align: right;\n",
       "    }\n",
       "</style>\n",
       "<table border=\"1\" class=\"dataframe\">\n",
       "  <thead>\n",
       "    <tr style=\"text-align: right;\">\n",
       "      <th></th>\n",
       "      <th>close</th>\n",
       "      <th>date</th>\n",
       "      <th>high</th>\n",
       "      <th>low</th>\n",
       "      <th>open</th>\n",
       "      <th>quoteVolume</th>\n",
       "      <th>volume</th>\n",
       "      <th>weightedAverage</th>\n",
       "      <th>True Date</th>\n",
       "      <th>Year</th>\n",
       "      <th>MA10</th>\n",
       "      <th>MA50</th>\n",
       "      <th>EMA10</th>\n",
       "      <th>EMA50</th>\n",
       "      <th>Go Long or Short</th>\n",
       "      <th>entry and exit</th>\n",
       "      <th>Profit or Loss</th>\n",
       "      <th>Cumulative Profit or Loss</th>\n",
       "    </tr>\n",
       "  </thead>\n",
       "  <tbody>\n",
       "    <tr>\n",
       "      <th>49</th>\n",
       "      <td>269.0000</td>\n",
       "      <td>1428537600</td>\n",
       "      <td>269.0000</td>\n",
       "      <td>240.88</td>\n",
       "      <td>245.559495</td>\n",
       "      <td>3.726719</td>\n",
       "      <td>910.717567</td>\n",
       "      <td>244.375177</td>\n",
       "      <td>2015-04-09</td>\n",
       "      <td>2015</td>\n",
       "      <td>254.256118</td>\n",
       "      <td>257.183195</td>\n",
       "      <td>255.642158</td>\n",
       "      <td>257.259788</td>\n",
       "      <td>SHORT</td>\n",
       "      <td>False</td>\n",
       "      <td>NaN</td>\n",
       "      <td>NaN</td>\n",
       "    </tr>\n",
       "    <tr>\n",
       "      <th>84</th>\n",
       "      <td>-243.2662</td>\n",
       "      <td>1431561600</td>\n",
       "      <td>249.5324</td>\n",
       "      <td>236.01</td>\n",
       "      <td>240.771396</td>\n",
       "      <td>1.312979</td>\n",
       "      <td>318.918726</td>\n",
       "      <td>242.897107</td>\n",
       "      <td>2015-05-14</td>\n",
       "      <td>2015</td>\n",
       "      <td>238.411853</td>\n",
       "      <td>238.175409</td>\n",
       "      <td>239.651958</td>\n",
       "      <td>238.934393</td>\n",
       "      <td>LONG</td>\n",
       "      <td>False</td>\n",
       "      <td>25.7338</td>\n",
       "      <td>25.7338</td>\n",
       "    </tr>\n",
       "    <tr>\n",
       "      <th>105</th>\n",
       "      <td>225.0000</td>\n",
       "      <td>1433376000</td>\n",
       "      <td>229.0000</td>\n",
       "      <td>225.00</td>\n",
       "      <td>229.000000</td>\n",
       "      <td>0.060991</td>\n",
       "      <td>13.935990</td>\n",
       "      <td>228.492048</td>\n",
       "      <td>2015-06-04</td>\n",
       "      <td>2015</td>\n",
       "      <td>233.986346</td>\n",
       "      <td>234.056422</td>\n",
       "      <td>233.025019</td>\n",
       "      <td>237.304057</td>\n",
       "      <td>SHORT</td>\n",
       "      <td>False</td>\n",
       "      <td>-18.2662</td>\n",
       "      <td>7.4676</td>\n",
       "    </tr>\n",
       "    <tr>\n",
       "      <th>118</th>\n",
       "      <td>-250.0000</td>\n",
       "      <td>1434499200</td>\n",
       "      <td>250.0000</td>\n",
       "      <td>234.32</td>\n",
       "      <td>234.320000</td>\n",
       "      <td>1.438727</td>\n",
       "      <td>357.929989</td>\n",
       "      <td>248.782420</td>\n",
       "      <td>2015-06-17</td>\n",
       "      <td>2015</td>\n",
       "      <td>236.731800</td>\n",
       "      <td>236.513993</td>\n",
       "      <td>237.846066</td>\n",
       "      <td>236.599597</td>\n",
       "      <td>LONG</td>\n",
       "      <td>False</td>\n",
       "      <td>-25.0000</td>\n",
       "      <td>-17.5324</td>\n",
       "    </tr>\n",
       "  </tbody>\n",
       "</table>\n",
       "</div>"
      ],
      "text/plain": [
       "        close        date      high     low        open  quoteVolume  \\\n",
       "49   269.0000  1428537600  269.0000  240.88  245.559495     3.726719   \n",
       "84  -243.2662  1431561600  249.5324  236.01  240.771396     1.312979   \n",
       "105  225.0000  1433376000  229.0000  225.00  229.000000     0.060991   \n",
       "118 -250.0000  1434499200  250.0000  234.32  234.320000     1.438727   \n",
       "\n",
       "         volume  weightedAverage  True Date  Year        MA10        MA50  \\\n",
       "49   910.717567       244.375177 2015-04-09  2015  254.256118  257.183195   \n",
       "84   318.918726       242.897107 2015-05-14  2015  238.411853  238.175409   \n",
       "105   13.935990       228.492048 2015-06-04  2015  233.986346  234.056422   \n",
       "118  357.929989       248.782420 2015-06-17  2015  236.731800  236.513993   \n",
       "\n",
       "          EMA10       EMA50 Go Long or Short  entry and exit  Profit or Loss  \\\n",
       "49   255.642158  257.259788            SHORT           False             NaN   \n",
       "84   239.651958  238.934393             LONG           False         25.7338   \n",
       "105  233.025019  237.304057            SHORT           False        -18.2662   \n",
       "118  237.846066  236.599597             LONG           False        -25.0000   \n",
       "\n",
       "     Cumulative Profit or Loss  \n",
       "49                         NaN  \n",
       "84                     25.7338  \n",
       "105                     7.4676  \n",
       "118                   -17.5324  "
      ]
     },
     "execution_count": 11,
     "metadata": {},
     "output_type": "execute_result"
    }
   ],
   "source": [
    "#Lets pull out all the entry and exit points with closing price and Short or long column\n",
    "EntryandExit = Daily_data_SMA.loc[Daily_data_SMA['entry and exit'] == False]\n",
    "EntryandExit\n",
    "#NEXT Calculate the profit/Loss per trade\n",
    "#Step 1 Change all the rows named SHORT to Negative\n",
    "EntryandExit.loc[EntryandExit['Go Long or Short'] == 'LONG', 'close'] = EntryandExit['close']*-1\n",
    "#Calculate the profit or loss on the trades. Fist column will be nan after that the profit or \n",
    "#loss is calculated on a per trade basis\n",
    "\n",
    "#EntryandExit['Running Total'] = EntryandExit['Profit or Loss'].cumsum()\n",
    "EntryandExit['Profit or Loss'] =  EntryandExit.close+EntryandExit.close.shift(1) \n",
    "#Cumulative Profit or loss\n",
    "EntryandExit['Cumulative Profit or Loss'] =  EntryandExit['Profit or Loss'].cumsum()\n",
    "\n",
    "EntryandExit.head(4)"
   ]
  },
  {
   "cell_type": "code",
   "execution_count": 7,
   "metadata": {},
   "outputs": [
    {
     "name": "stdout",
     "output_type": "stream",
     "text": [
      "There were 33 trades made for the Simple Moving Average Strategy. The Total Profit/Loss from the strategy was $4196.714450660003. The largest single winner was $6889.4 and the largest drawdown was $-2319.99\n"
     ]
    }
   ],
   "source": [
    "#trade statistics\n",
    "total_trades= len(EntryandExit)\n",
    "Total_profit_points = EntryandExit['Profit or Loss'].sum()\n",
    "largest_drawdown = EntryandExit['Profit or Loss'].min()\n",
    "largest_winner = EntryandExit['Profit or Loss'].max()\n",
    "\n",
    "print(f\"There were {total_trades} trades made for the Simple Moving Average Strategy. The Total Profit/Loss from the \\\n",
    "strategy was ${Total_profit_points}. The largest single winner was ${round(largest_winner,2)} and the largest drawdown was ${round(largest_drawdown,2)}\")"
   ]
  },
  {
   "cell_type": "code",
   "execution_count": 8,
   "metadata": {
    "scrolled": false
   },
   "outputs": [
    {
     "data": {
      "image/png": "[encoded data removed]",
      "text/plain": [
       "<Figure size 1440x360 with 1 Axes>"
      ]
     },
     "metadata": {
      "needs_background": "light"
     },
     "output_type": "display_data"
    }
   ],
   "source": [
    "#Plot price and moving averages\n",
    "import matplotlib.pyplot as plt\n",
    "%matplotlib inline\n",
    "plt.figure(figsize=(20,5)) \n",
    "plt.plot(Daily_data_SMA['True Date'], Daily_data_SMA['close'])\n",
    "plt.plot(Daily_data_SMA['True Date'], Daily_data_SMA['MA10'])\n",
    "plt.plot(Daily_data_SMA['True Date'], Daily_data_SMA['MA50'])\n",
    "\n",
    "# Incorporate the other graph properties\n",
    "plt.title(f\"{Symbol} OVER TIME\")\n",
    "plt.ylabel(\"Price $\")\n",
    "plt.xlabel(\"Date\")\n",
    "plt.grid(True)\n",
    "\n",
    "# Save the figure\n",
    "#plt.savefig(\"Latitude_vs_Wind.png\")\n",
    "\n",
    "# Show plot\n",
    "plt.show()\n"
   ]
  },
  {
   "cell_type": "code",
   "execution_count": 9,
   "metadata": {},
   "outputs": [
    {
     "data": {
      "image/png": "[encoded data removed]",
      "text/plain": [
       "<Figure size 432x288 with 1 Axes>"
      ]
     },
     "metadata": {
      "needs_background": "light"
     },
     "output_type": "display_data"
    }
   ],
   "source": [
    "#Plot profit line\n",
    "import matplotlib.pyplot as plt\n",
    "plt.plot(EntryandExit['True Date'], EntryandExit['Profit or Loss'])\n",
    "\n",
    "# Incorporate the other graph properties\n",
    "plt.title(f\"{Symbol} Profit/Loss\")\n",
    "plt.ylabel(\"Profits\")\n",
    "plt.xlabel(\"Date\")\n",
    "plt.grid(True)\n",
    "\n",
    "# Save the figure\n",
    "#plt.savefig(\"Latitude_vs_Wind.png\")\n",
    "\n",
    "# Show plot\n",
    "plt.show()"
   ]
  }
 ],
 "metadata": {
  "kernelspec": {
   "display_name": "Python 3",
   "language": "python",
   "name": "python3"
  },
  "language_info": {
   "codemirror_mode": {
    "name": "ipython",
    "version": 3
   },
   "file_extension": ".py",
   "mimetype": "text/x-python",
   "name": "python",
   "nbconvert_exporter": "python",
   "pygments_lexer": "ipython3",
   "version": "3.7.1"
  }
 },
 "nbformat": 4,
 "nbformat_minor": 2
}
